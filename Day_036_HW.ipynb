{
 "cells": [
  {
   "cell_type": "code",
   "execution_count": 16,
   "metadata": {},
   "outputs": [],
   "source": [
    "import numpy as np\n",
    "from sklearn import metrics\n",
    "y_pred = np.random.randint(2, size=100)  # 生成 100 個隨機的 0 / 1 prediction\n",
    "y_true = np.random.randint(2, size=100)  # 生成 100 個隨機的 0 / 1 ground truth"
   ]
  },
  {
   "cell_type": "code",
   "execution_count": 17,
   "metadata": {},
   "outputs": [
    {
     "name": "stdout",
     "output_type": "stream",
     "text": [
      "Precision:  0.45614035087719296\n",
      "Recall:  0.5416666666666666\n",
      "F2-Score:  0.5220883534136546\n"
     ]
    }
   ],
   "source": [
    "precision = metrics.precision_score(y_pred, y_true) # 使用 Precision 評估\n",
    "recall  = metrics.recall_score(y_pred, y_true) # 使用 recall 評估\n",
    "def F_beta(beta,precision,recall):\n",
    "    return (1 + beta**2)*precision*recall/((beta**2)*precision + recall)\n",
    "f2 = F_beta(2,precision,recall)\n",
    "print(\"Precision: \", precision)\n",
    "print(\"Recall: \", recall)\n",
    "print(\"F2-Score: \", f2) "
   ]
  },
  {
   "cell_type": "code",
   "execution_count": null,
   "metadata": {},
   "outputs": [],
   "source": []
  }
 ],
 "metadata": {
  "kernelspec": {
   "display_name": "Python 3",
   "language": "python",
   "name": "python3"
  },
  "language_info": {
   "codemirror_mode": {
    "name": "ipython",
    "version": 3
   },
   "file_extension": ".py",
   "mimetype": "text/x-python",
   "name": "python",
   "nbconvert_exporter": "python",
   "pygments_lexer": "ipython3",
   "version": "3.7.6"
  }
 },
 "nbformat": 4,
 "nbformat_minor": 4
}

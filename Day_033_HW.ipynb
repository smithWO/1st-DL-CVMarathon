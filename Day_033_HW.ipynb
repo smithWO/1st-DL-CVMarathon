{
 "cells": [
  {
   "cell_type": "code",
   "execution_count": null,
   "metadata": {},
   "outputs": [],
   "source": [
    "#1.模型的泛化能力 (generalization) 是指什麼？\n",
    "#  適應新數據的能力。因為在訓練模型時，若將模型調得太複雜，模型會對訓練用的數據集過度擬合，導致將模型套用在其他數據上時的預測效果不佳。\n",
    "#2.分類問題與回歸問題分別可用的目標函數有哪些？\n",
    "#  分類模型可以使用交叉熵(cross entropy),回歸模型使用MSE。"
   ]
  }
 ],
 "metadata": {
  "kernelspec": {
   "display_name": "Python 3",
   "language": "python",
   "name": "python3"
  },
  "language_info": {
   "codemirror_mode": {
    "name": "ipython",
    "version": 3
   },
   "file_extension": ".py",
   "mimetype": "text/x-python",
   "name": "python",
   "nbconvert_exporter": "python",
   "pygments_lexer": "ipython3",
   "version": "3.7.6"
  }
 },
 "nbformat": 4,
 "nbformat_minor": 4
}

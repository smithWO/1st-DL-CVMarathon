{
 "cells": [
  {
   "cell_type": "code",
   "execution_count": null,
   "metadata": {},
   "outputs": [],
   "source": [
    "#資料來源\n",
    "#利用爬蟲技巧在網路上搜尋相關圖片並下載\n",
    "#目標\n",
    "#利用下載下來的相關服飾圖片訓練模型，訓練好的模型可以分辨出服飾的顏色以及款式\n",
    "#評估指標\n",
    "#利用softmax作為active function，將圖片輸入模型，會輸出一機率陣列，分別說明此圖片為某類別的機率為何。"
   ]
  }
 ],
 "metadata": {
  "kernelspec": {
   "display_name": "Python 3",
   "language": "python",
   "name": "python3"
  },
  "language_info": {
   "codemirror_mode": {
    "name": "ipython",
    "version": 3
   },
   "file_extension": ".py",
   "mimetype": "text/x-python",
   "name": "python",
   "nbconvert_exporter": "python",
   "pygments_lexer": "ipython3",
   "version": "3.7.6"
  }
 },
 "nbformat": 4,
 "nbformat_minor": 4
}

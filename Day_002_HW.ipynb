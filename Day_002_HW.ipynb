{
 "cells": [
  {
   "cell_type": "markdown",
   "metadata": {},
   "source": [
    "## [作業目標]\n",
    "了解機器學習適合應用的領域與範疇。"
   ]
  },
  {
   "cell_type": "markdown",
   "metadata": {},
   "source": [
    "## [作業重點]\n",
    "透過瞭解機器學習的運作方式，找出非常適用機器學習應用的領域及其原因"
   ]
  },
  {
   "cell_type": "markdown",
   "metadata": {},
   "source": [
    "## 作業\n",
    "請找出一個你認為機器學習可以發光發熱的領域並闡述原因? "
   ]
  },
  {
   "cell_type": "code",
   "execution_count": null,
   "metadata": {},
   "outputs": [],
   "source": [
    "AI心理諮商\n",
    "\n",
    "在未來的社會，人們為了生存，所需面對的壓力越來越大，許多壓力憋在心裡說不出口，甚至認為就醫事件羞恥的事情，\n",
    "就這樣壓力無法排解，無法排解的壓力又生成新的壓力，不斷的惡性循環。因此希望可以透過聊天機器人，利用語意判\n",
    "斷的模型，能夠在聊天的過程中，分析出使用者的心理健康程度，判斷是否有憂鬱的傾向，並依照程度推薦適合使用者\n",
    "的排解壓力的方法，或者建議尋求專業醫生的協助。"
   ]
  }
 ],
 "metadata": {
  "kernelspec": {
   "display_name": "Python 3",
   "language": "python",
   "name": "python3"
  },
  "language_info": {
   "codemirror_mode": {
    "name": "ipython",
    "version": 3
   },
   "file_extension": ".py",
   "mimetype": "text/x-python",
   "name": "python",
   "nbconvert_exporter": "python",
   "pygments_lexer": "ipython3",
   "version": "3.7.6"
  }
 },
 "nbformat": 4,
 "nbformat_minor": 2
}

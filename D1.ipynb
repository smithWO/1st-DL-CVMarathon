{
 "cells": [
  {
   "cell_type": "code",
   "execution_count": null,
   "metadata": {},
   "outputs": [],
   "source": [
    "def mean_square_error(y,yp):\n",
    "    \"\"\"\n",
    "    計算MSE\n",
    "    Args:\n",
    "        -y:實際值\n",
    "        -yp:預測值\n",
    "    Return:\n",
    "        -mse:MSE\n",
    "    \"\"\"\n",
    "    mse = sum((y-yp)(y-yp))/len(y)\n",
    "    return mse\n",
    "MSE = mean_square_error(y,y_hat)\n",
    "print(\"The Mean Square error if %.3f\" % (MSE))"
   ]
  },
  {
   "cell_type": "code",
   "execution_count": null,
   "metadata": {},
   "outputs": [],
   "source": [
    "[作業2]\n",
    "\n",
    "請上 Kaggle, 在 Competitions 或 Dataset 中找一組競賽或資料並寫下：\n",
    "\n",
    "1.你選的這組資料為何重要\n",
    "\n",
    "  希望可以透過這組資料，判斷受測者是否罹患心臟病。\n",
    "\n",
    "2.資料從何而來 (tips: 譬如提供者是誰、以什麼方式蒐集)\n",
    "\n",
    "  這組資料是從 Cleveland Heart Disease dataset 所取得。\n",
    "\n",
    "3.蒐集而來的資料型態為何\n",
    "\n",
    "  這組資料有13個 attribute\n",
    "\n",
    "  (1).Age\n",
    "  (2).Sex\n",
    "  (3).Chest-pain type\n",
    "  (4).Resting Blood Pressure\n",
    "  (5).Serum Cholestrol\n",
    "  (6).Fasting Blood Sugar\n",
    "  (7).Resting ECG\n",
    "  (8).Max heart rate achieved\n",
    "  (9).Exercise induced angina \n",
    "  (10).ST depression induced by exercise relative to rest\n",
    "  (11).Peak exercise ST segment\n",
    "  (12).Number of major vessels (0–3) colored by flourosopy\n",
    "  (13).Thal \n",
    "\n",
    "4.這組資料想解決的問題如何評估\n",
    "\n",
    "  利用上述13種特性的患者資料做出預測模型，預測出患者使否患有心臟病，並將預測結果與實際結果做比對，藉以得知模型的預測能力。\n"
   ]
  },
  {
   "cell_type": "code",
   "execution_count": null,
   "metadata": {},
   "outputs": [],
   "source": [
    "[作業3]\n",
    "\n",
    "想像你經營一個自由載客車隊，你希望能透過數據分析以提升業績，請你思考並描述你如何規劃整體的分析/解決方案：\n",
    "\n",
    "1.核心問題為何 (tips：如何定義 「提升業績 & 你的假設」)\n",
    "\n",
    "  空車的時間越短，相對來講就會有較好的業績。藉由蒐集到的資料訓練模型，判斷出對應時間點較容易載到乘客的地點。\n",
    "\n",
    "2.資料從何而來 (tips：哪些資料可能會對你想問的問題產生影響 & 資料如何蒐集)\n",
    "\n",
    "  一些時間、地點的資訊可以由司機紀錄。乘客相關資訊可藉由舉辦抽獎活動已得到乘客的個人資訊。  \n",
    "\n",
    "3.蒐集而來的資料型態為何\n",
    "\n",
    "  (1).天氣(包含溫度、以及是否下雨)\n",
    "  (2).乘客性別\n",
    "  (3).乘客年齡\n",
    "  (4).搭乘時段\n",
    "  (5).搭乘地點  \n",
    "  (6).空車等候時間\n",
    "\n",
    "4.你要回答的問題，其如何評估 (tips：你的假設如何驗證)\n",
    "\n",
    "  藉由蒐集到的資訊訓練模型，由模型推估出的空車等候時間，與真實的空車等候時間做比較，藉以推估出模型的好壞，以及還可以改善之處。"
   ]
  }
 ],
 "metadata": {
  "kernelspec": {
   "display_name": "Python 3",
   "language": "python",
   "name": "python3"
  },
  "language_info": {
   "codemirror_mode": {
    "name": "ipython",
    "version": 3
   },
   "file_extension": ".py",
   "mimetype": "text/x-python",
   "name": "python",
   "nbconvert_exporter": "python",
   "pygments_lexer": "ipython3",
   "version": "3.7.6"
  }
 },
 "nbformat": 4,
 "nbformat_minor": 4
}
